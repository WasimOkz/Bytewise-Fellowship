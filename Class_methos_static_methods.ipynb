{
 "cells": [
  {
   "cell_type": "code",
   "execution_count": 34,
   "metadata": {},
   "outputs": [],
   "source": [
    "    \n",
    "class Employe():\n",
    "    \n",
    "    num_of_emps = 0\n",
    "    raised_amount = 1.04\n",
    "    \n",
    "    \n",
    "    def __init__(self, first , last, pay):\n",
    "        self.first = first\n",
    "        self.last = last\n",
    "        self.pay = pay\n",
    "        self.email = self.first + '.' + self.last + '@company.com'\n",
    "        \n",
    "        Employe.num_of_emps += 1\n",
    "\n",
    "    def full_name(self):\n",
    "\n",
    "        return '{} {}'.format(self.first,self.last)\n",
    "    \n",
    "    def apply_raise(self):\n",
    "        self.pay = int(self.pay *self.raised_amount)\n",
    "        \n",
    "        \n",
    "    @classmethod\n",
    "    \n",
    "    def set_raise_amt(cls,amount):\n",
    "        set_raise_amt = amount\n",
    "        \n",
    "    @classmethod\n",
    "    \n",
    "    def from_str(cls,emp_str):\n",
    "        first ,last, pay = emp_str.split('-')\n",
    "        return cls(first,last,pay)\n",
    "    \n",
    "    \n",
    "    @staticmethod\n",
    "    \n",
    "    def is_working_day(day):\n",
    "        if day.weekday() == 5 or day.weekday() ==6:\n",
    "            return False\n",
    "        return True"
   ]
  },
  {
   "cell_type": "code",
   "execution_count": 6,
   "metadata": {},
   "outputs": [],
   "source": [
    "emp_1 = Employe('Muhammad','Wasim',50000)\n",
    "emp_2 = Employe('first_name' ,'last_name',40000)"
   ]
  },
  {
   "cell_type": "code",
   "execution_count": 8,
   "metadata": {},
   "outputs": [
    {
     "name": "stdout",
     "output_type": "stream",
     "text": [
      "1.04\n",
      "1.04\n",
      "1.04\n"
     ]
    }
   ],
   "source": [
    "print(Employe.raised_amount)\n",
    "print(emp_1.raised_amount)\n",
    "print(emp_2.raised_amount)"
   ]
  },
  {
   "cell_type": "code",
   "execution_count": 10,
   "metadata": {},
   "outputs": [
    {
     "name": "stdout",
     "output_type": "stream",
     "text": [
      "1.05\n",
      "1.05\n",
      "1.05\n"
     ]
    }
   ],
   "source": [
    "Employe.set_raise_amt = 1.05\n",
    "print(Employe.set_raise_amt)\n",
    "print(emp_1.set_raise_amt)\n",
    "print(emp_2.set_raise_amt)"
   ]
  },
  {
   "cell_type": "code",
   "execution_count": 11,
   "metadata": {},
   "outputs": [],
   "source": [
    "emp_str_1 = 'John-Doe-70000'\n",
    "emp_str_2 = 'Steve-Smith-30000'\n",
    "emp_str_3 = 'Jane-Doe-90000'"
   ]
  },
  {
   "cell_type": "code",
   "execution_count": 20,
   "metadata": {},
   "outputs": [
    {
     "name": "stdout",
     "output_type": "stream",
     "text": [
      "John.Doe@company.com\n",
      "John\n",
      "Doe\n",
      "70000\n"
     ]
    }
   ],
   "source": [
    "new_emp_1 = Employe.from_str(emp_str_1)\n",
    "print(new_emp_1.email)\n",
    "print(new_emp_1.first)\n",
    "print(new_emp_1.last)\n",
    "print(new_emp_1.pay)"
   ]
  },
  {
   "cell_type": "code",
   "execution_count": 39,
   "metadata": {},
   "outputs": [
    {
     "data": {
      "text/plain": [
       "True"
      ]
     },
     "execution_count": 39,
     "metadata": {},
     "output_type": "execute_result"
    }
   ],
   "source": [
    "import datetime\n",
    "\n",
    "my_date = datetime.date(2017,10,17)\n",
    "\n",
    "Employe.is_working_day(my_date)"
   ]
  },
  {
   "cell_type": "code",
   "execution_count": null,
   "metadata": {},
   "outputs": [],
   "source": []
  }
 ],
 "metadata": {
  "kernelspec": {
   "display_name": "Python 3",
   "language": "python",
   "name": "python3"
  },
  "language_info": {
   "codemirror_mode": {
    "name": "ipython",
    "version": 3
   },
   "file_extension": ".py",
   "mimetype": "text/x-python",
   "name": "python",
   "nbconvert_exporter": "python",
   "pygments_lexer": "ipython3",
   "version": "3.7.4"
  }
 },
 "nbformat": 4,
 "nbformat_minor": 2
}
