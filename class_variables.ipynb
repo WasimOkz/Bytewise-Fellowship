{
 "cells": [
  {
   "cell_type": "code",
   "execution_count": 39,
   "metadata": {},
   "outputs": [],
   "source": [
    "class Employe():\n",
    "    \n",
    "    num_of_emps = 0\n",
    "    raised_amount = 1.04\n",
    "    \n",
    "    \n",
    "    def __init__(self, first , last, pay):\n",
    "        self.first = first\n",
    "        self.last = last\n",
    "        self.pay = pay\n",
    "        self.email = self.first + '.' + self.last + '@company.com'\n",
    "        \n",
    "        Employe.num_of_emps += 1\n",
    "\n",
    "    def full_name(self):\n",
    "\n",
    "        return '{} {}'.format(self.first,self.last)\n",
    "    \n",
    "    def apply_raise(self):\n",
    "        self.pay = int(self.pay * self.raised_amount)\n"
   ]
  },
  {
   "cell_type": "code",
   "execution_count": 40,
   "metadata": {},
   "outputs": [],
   "source": [
    "emp_1 = Employe('Muhammad','Wasim',50000)\n",
    "emp_2 = Employe('first_name' ,'last_name',40000)"
   ]
  },
  {
   "cell_type": "code",
   "execution_count": 20,
   "metadata": {
    "scrolled": true
   },
   "outputs": [
    {
     "name": "stdout",
     "output_type": "stream",
     "text": [
      "50000\n"
     ]
    }
   ],
   "source": [
    "print(emp_1.pay)"
   ]
  },
  {
   "cell_type": "code",
   "execution_count": 21,
   "metadata": {},
   "outputs": [],
   "source": [
    "emp_1.apply_raise()"
   ]
  },
  {
   "cell_type": "code",
   "execution_count": 22,
   "metadata": {},
   "outputs": [
    {
     "name": "stdout",
     "output_type": "stream",
     "text": [
      "52000\n"
     ]
    }
   ],
   "source": [
    "print(emp_1.pay)"
   ]
  },
  {
   "cell_type": "code",
   "execution_count": 25,
   "metadata": {},
   "outputs": [
    {
     "name": "stdout",
     "output_type": "stream",
     "text": [
      "1.04\n",
      "1.04\n",
      "1.04\n"
     ]
    }
   ],
   "source": [
    "print(emp_1.raised_amount)\n",
    "print(emp_2.raised_amount)\n",
    "print(Employe.raised_amount)"
   ]
  },
  {
   "cell_type": "code",
   "execution_count": 27,
   "metadata": {},
   "outputs": [
    {
     "name": "stdout",
     "output_type": "stream",
     "text": [
      "{'first': 'Muhammad', 'last': 'Wasim', 'pay': 52000, 'email': 'Muhammad.Wasim@company.com'}\n",
      "{'first': 'first_name', 'last': 'last_name', 'pay': 40000, 'email': 'first_name.last_name@company.com'}\n",
      "{'__module__': '__main__', 'raised_amount': 1.04, '__init__': <function Employe.__init__ at 0x0000018A4203D708>, 'full_name': <function Employe.full_name at 0x0000018A4203D798>, 'apply_raise': <function Employe.apply_raise at 0x0000018A4203D828>, '__dict__': <attribute '__dict__' of 'Employe' objects>, '__weakref__': <attribute '__weakref__' of 'Employe' objects>, '__doc__': None}\n"
     ]
    }
   ],
   "source": [
    "print(emp_1.__dict__)\n",
    "print(emp_2.__dict__)\n",
    "print(Employe.__dict__)"
   ]
  },
  {
   "cell_type": "code",
   "execution_count": 29,
   "metadata": {},
   "outputs": [
    {
     "name": "stdout",
     "output_type": "stream",
     "text": [
      "1.05\n",
      "1.05\n",
      "1.05\n"
     ]
    }
   ],
   "source": [
    "Employe.raised_amount = 1.05\n",
    "print(emp_1.raised_amount)\n",
    "print(emp_2.raised_amount)\n",
    "print(Employe.raised_amount)"
   ]
  },
  {
   "cell_type": "code",
   "execution_count": 36,
   "metadata": {},
   "outputs": [
    {
     "name": "stdout",
     "output_type": "stream",
     "text": [
      "{'first': 'Muhammad', 'last': 'Wasim', 'pay': 50000, 'email': 'Muhammad.Wasim@company.com', 'raised_amount': 1.05}\n",
      "1.05\n",
      "1.04\n",
      "1.04\n"
     ]
    }
   ],
   "source": [
    "emp_1.raised_amount = 1.05\n",
    "print(emp_1.__dict__)\n",
    "print(emp_1.raised_amount)\n",
    "print(emp_2.raised_amount)\n",
    "print(Employe.raised_amount)"
   ]
  },
  {
   "cell_type": "code",
   "execution_count": 42,
   "metadata": {},
   "outputs": [
    {
     "data": {
      "text/plain": [
       "2"
      ]
     },
     "execution_count": 42,
     "metadata": {},
     "output_type": "execute_result"
    }
   ],
   "source": [
    "Employe.num_of_emps"
   ]
  },
  {
   "cell_type": "code",
   "execution_count": 43,
   "metadata": {},
   "outputs": [
    {
     "data": {
      "text/plain": [
       "3"
      ]
     },
     "execution_count": 43,
     "metadata": {},
     "output_type": "execute_result"
    }
   ],
   "source": [
    "emp_3 = Employe('Emp_3','emp_last',60000)\n",
    "Employe.num_of_emps"
   ]
  },
  {
   "cell_type": "code",
   "execution_count": null,
   "metadata": {},
   "outputs": [],
   "source": []
  }
 ],
 "metadata": {
  "kernelspec": {
   "display_name": "Python 3",
   "language": "python",
   "name": "python3"
  },
  "language_info": {
   "codemirror_mode": {
    "name": "ipython",
    "version": 3
   },
   "file_extension": ".py",
   "mimetype": "text/x-python",
   "name": "python",
   "nbconvert_exporter": "python",
   "pygments_lexer": "ipython3",
   "version": "3.7.4"
  }
 },
 "nbformat": 4,
 "nbformat_minor": 2
}
