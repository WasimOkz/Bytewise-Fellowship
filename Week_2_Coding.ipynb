{
 "cells": [
  {
   "cell_type": "markdown",
   "metadata": {},
   "source": [
    "# Variables in Python!"
   ]
  },
  {
   "cell_type": "code",
   "execution_count": 1,
   "metadata": {},
   "outputs": [],
   "source": [
    "name = 'Muhammad Wasim'\n",
    "age = 21\n",
    "country  = 'Pakistan'\n",
    "adult = True"
   ]
  },
  {
   "cell_type": "code",
   "execution_count": 4,
   "metadata": {},
   "outputs": [
    {
     "name": "stdout",
     "output_type": "stream",
     "text": [
      "Muhammad Wasim\n",
      "21\n",
      "Pakistan\n",
      "True\n"
     ]
    }
   ],
   "source": [
    "list = [str(name),int(age),str(country),bool(adult)]\n",
    "\n",
    "for i in list:\n",
    "    print(i)"
   ]
  },
  {
   "cell_type": "markdown",
   "metadata": {},
   "source": [
    "# Operations in Python"
   ]
  },
  {
   "cell_type": "code",
   "execution_count": 7,
   "metadata": {},
   "outputs": [
    {
     "name": "stdout",
     "output_type": "stream",
     "text": [
      "addition: 40\n",
      "subtraction: 10\n",
      "division: 1.6666666666666667\n",
      "multiplication: 375\n"
     ]
    }
   ],
   "source": [
    "num_1 = 25\n",
    "num_2 = 15\n",
    "\n",
    "# +,-,*, /\n",
    "\n",
    "print('addition:',num_1+num_2)\n",
    "print('subtraction:',num_1-num_2)\n",
    "print('division:',num_1/num_2)\n",
    "print('multiplication:',num_1*num_2)"
   ]
  },
  {
   "cell_type": "code",
   "execution_count": 9,
   "metadata": {},
   "outputs": [
    {
     "name": "stdout",
     "output_type": "stream",
     "text": [
      "45 5 0 0.00027557319223985884\n"
     ]
    }
   ],
   "source": [
    "var_1 = 0\n",
    "var_2 = 50\n",
    "var_3 = 1\n",
    "var_4 = 1000\n",
    "\n",
    "for i in range(10):\n",
    "    var_1+=i\n",
    "    var_2-=i\n",
    "    var_3*=i\n",
    "    var_4/=i+1\n",
    "    \n",
    "print(var_1,var_2,var_3,var_4)"
   ]
  },
  {
   "cell_type": "code",
   "execution_count": null,
   "metadata": {},
   "outputs": [],
   "source": []
  },
  {
   "cell_type": "markdown",
   "metadata": {},
   "source": [
    "# Control Flow"
   ]
  },
  {
   "cell_type": "code",
   "execution_count": 11,
   "metadata": {},
   "outputs": [
    {
     "name": "stdout",
     "output_type": "stream",
     "text": [
      "False\n"
     ]
    }
   ],
   "source": [
    "if var_1 >=0:\n",
    "    print(False)\n"
   ]
  },
  {
   "cell_type": "code",
   "execution_count": 14,
   "metadata": {},
   "outputs": [
    {
     "name": "stdout",
     "output_type": "stream",
     "text": [
      "Nothing to say\n"
     ]
    }
   ],
   "source": [
    "if var_1 <= 0 and var_2>=20:\n",
    "    print(True)\n",
    "    \n",
    "else:\n",
    "    print('Nothing to say')"
   ]
  },
  {
   "cell_type": "markdown",
   "metadata": {},
   "source": [
    "# Data Structers in python!"
   ]
  },
  {
   "cell_type": "code",
   "execution_count": 16,
   "metadata": {},
   "outputs": [
    {
     "name": "stdout",
     "output_type": "stream",
     "text": [
      "a\n",
      "1\n",
      "23\n",
      "True\n",
      "2\n",
      "c\n"
     ]
    }
   ],
   "source": [
    "# list, tuple , set , dict\n",
    "\n",
    "list  = ['a',1,23, True,'2','c']\n",
    "\n",
    "for i in range(len(list)):\n",
    "    print(list[i])\n",
    "    "
   ]
  },
  {
   "cell_type": "code",
   "execution_count": 21,
   "metadata": {},
   "outputs": [
    {
     "name": "stdout",
     "output_type": "stream",
     "text": [
      "a\n",
      "2\n"
     ]
    }
   ],
   "source": [
    "tuple = ('a',1,23, True,'2','c')\n",
    "\n",
    "print(tuple[0])\n",
    "print(tuple[4])"
   ]
  },
  {
   "cell_type": "code",
   "execution_count": 22,
   "metadata": {},
   "outputs": [
    {
     "name": "stdout",
     "output_type": "stream",
     "text": [
      "{'a', 1, 'c', '2', 23}\n"
     ]
    }
   ],
   "source": [
    "set = {'a',1,23, True,'2','c','2'}\n",
    "print(set)"
   ]
  },
  {
   "cell_type": "code",
   "execution_count": 27,
   "metadata": {},
   "outputs": [
    {
     "name": "stdout",
     "output_type": "stream",
     "text": [
      "dict_values([1, 2, 3])\n",
      "dict_keys(['one', 'two', 'three'])\n",
      "1\n"
     ]
    }
   ],
   "source": [
    "dict = {'one':1, 'two':2, 'three':3}\n",
    "print(dict.values())\n",
    "print(dict.keys())\n",
    "print(dict['one'])"
   ]
  }
 ],
 "metadata": {
  "kernelspec": {
   "display_name": "Python 3",
   "language": "python",
   "name": "python3"
  },
  "language_info": {
   "codemirror_mode": {
    "name": "ipython",
    "version": 3
   },
   "file_extension": ".py",
   "mimetype": "text/x-python",
   "name": "python",
   "nbconvert_exporter": "python",
   "pygments_lexer": "ipython3",
   "version": "3.8.5"
  }
 },
 "nbformat": 4,
 "nbformat_minor": 4
}
